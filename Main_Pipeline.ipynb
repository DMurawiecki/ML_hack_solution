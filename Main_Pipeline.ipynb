{
 "cells": [
  {
   "cell_type": "code",
   "execution_count": 1,
   "metadata": {
    "ExecuteTime": {
     "end_time": "2023-04-30T23:12:01.301476Z",
     "start_time": "2023-04-30T23:11:47.789305Z"
    },
    "_cell_guid": "b1076dfc-b9ad-4769-8c92-a6c4dae69d19",
    "_uuid": "8f2839f25d086af736a60e9eeb907d3b93b6e0e5"
   },
   "outputs": [],
   "source": [
    "import os\n",
    "import numpy as np\n",
    "import pandas as pd\n",
    "from rdkit import Chem  # To extract information of the molecules\n",
    "from rdkit.Chem import Descriptors\n",
    "import gc\n",
    "import rdkit\n",
    "import numpy as np\n",
    "import pandas as pd\n",
    "from rdkit import Chem  # To extract information of the molecules\n",
    "from mordred import Calculator, descriptors  # To calculate descriptors\n",
    "import rdkit\n",
    "import numpy as np\n",
    "import pandas as pd\n",
    "import matplotlib.pyplot as plt\n",
    "from sklearn.model_selection import train_test_split, KFold\n",
    "from sklearn.preprocessing import MinMaxScaler\n",
    "from sklearn.metrics import mean_squared_error, roc_auc_score\n",
    "from rdkit import Chem  # To extract information of the molecules\n",
    "from rdkit.Chem import Draw  # To draw the molecules\n",
    "from mordred import Calculator, descriptors  # To calculate descriptors\n",
    "# from molml.features import CoulombMatrix  # To calculate the coulomb matrix\n",
    "from tensorflow import keras\n",
    "from tensorflow.keras.models import Sequential\n",
    "from tensorflow.keras.layers import Dense, Dropout\n",
    "from tensorflow.keras.callbacks import ReduceLROnPlateau, EarlyStopping\n",
    "\n",
    "from catboost import CatBoostRegressor"
   ]
  },
  {
   "cell_type": "markdown",
   "metadata": {},
   "source": [
    "# Загрузка обучающих данных"
   ]
  },
  {
   "cell_type": "markdown",
   "metadata": {},
   "source": [
    "Перед началом обучения моделей создайте директорию training_datasets и поместите туда обучающие датасеты"
   ]
  },
  {
   "cell_type": "markdown",
   "metadata": {},
   "source": [
    "### Преобразуем мг/кг в другой формат"
   ]
  },
  {
   "cell_type": "code",
   "execution_count": null,
   "metadata": {},
   "outputs": [],
   "source": [
    "def upload_smiles(file_name, target_columns=None):\n",
    "    \"\"\"\n",
    "    Функция для загрузки датасета\n",
    "    :param file_name: str\n",
    "    :param target_columns: LIST of str\n",
    "    :return:\n",
    "    \"\"\"\n",
    "    if target_columns:\n",
    "        cols = ['smiles']  # Columns names\n",
    "        for i, c in enumerate(target_columns):\n",
    "            cols.append(c)\n",
    "        df = pd.read_csv(file_name, names=cols, skiprows=1)\n",
    "    else:\n",
    "        df = pd.read_csv(file_name, skiprows=0)\n",
    "\n",
    "    df.dropna(inplace=True, axis=0)\n",
    "    return df\n",
    "\n",
    "\n",
    "datasets_path = 'training_datasets'  # ДАТАСЕТЫ НУЖНО ПОМЕСТИТЬ СЮДА\n",
    "os.makedirs(datasets_path, exist_ok=True)\n",
    "lg_datasets_path = 'lg_datasets'\n",
    "os.makedirs(lg_datasets_path, exist_ok=True)\n",
    "\n",
    "\n",
    "for file_name in os.listdir(datasets_path):\n",
    "    if file_name[-4:] != '.csv':\n",
    "        continue\n",
    "    dataset_file_path = datasets_path + '/' + file_name\n",
    "    target_name = file_name.split('_')[-1][:-4]\n",
    "    df = upload_smiles(dataset_file_path, target_columns=[target_name])\n",
    "\n",
    "    # df = df.iloc[:1001, :]  # For fast checking\n",
    "\n",
    "    #Getting molecules from SMILES\n",
    "    df['mol'] = df['smiles'].apply(lambda x: Chem.MolFromSmiles(x))\n",
    "    # Add hidrogen molecules\n",
    "    try:\n",
    "        df['mol'] = df['mol'].apply(lambda x: Chem.AddHs(x))\n",
    "    except: # Hydrogen exists\n",
    "        pass\n",
    "\n",
    "    # Convert to moles\n",
    "    df['mw'] = df['mol'].apply(lambda x: Descriptors.MolWt(x))\n",
    "\n",
    "    df[f'{target_name}_mole/kg'] = df[target_name] / 1000 / df['mw']\n",
    "\n",
    "    # Logarithm\n",
    "    df[f'{target_name}_lg(mole/kg)'] = - np.log10(df[f'{target_name}_mole/kg'])\n",
    "\n",
    "    new_df = df.loc[:, ['smiles', f'{target_name}_lg(mole/kg)']]\n",
    "    new_df_path = lg_datasets_path + '/lg_' + file_name\n",
    "\n",
    "    # Save to file\n",
    "    try:\n",
    "        new_df.to_csv(new_df_path, index=False)\n",
    "    except PermissionError:\n",
    "        print(f\"Error! File {file_name} exists and it's opened! Close it before overwriting.\")\n",
    "    del df\n",
    "\n",
    "%reset -f  # Clear the memory"
   ]
  },
  {
   "cell_type": "markdown",
   "metadata": {},
   "source": [
    "#### Сделаем дескрипторы, которые модель может интерпретировать"
   ]
  },
  {
   "cell_type": "code",
   "execution_count": null,
   "metadata": {},
   "outputs": [],
   "source": [
    "\n",
    "descripted_datasets_path = \"descriptors\"\n",
    "os.makedirs(descripted_datasets_path, exist_ok=True)\n",
    "\n",
    "canonized = not bool(input(\n",
    "    \"Представлены ли ваши данные в форме Canonize SMILES?\\n\"\n",
    "    \"Введите любой символ для YES, пропустите для NO\"))\n",
    "\n",
    "\n",
    "for file_name in os.listdir(lg_datasets_path):\n",
    "    if file_name[-4:] != '.csv':\n",
    "        continue\n",
    "    target_name = file_name.split('_')[-1][:-4]  # Getting the target type, clising the .csv\n",
    "    dataset_file_path = lg_datasets_path + '/' + file_name\n",
    "    df = upload_smiles(dataset_file_path, target_columns=[target_name])\n",
    "\n",
    "    # df = df.iloc[:1001, :]  # For fast checking\n",
    "\n",
    "\n",
    "    if not canonized:\n",
    "        # Then we convert to Canonical SMILES\n",
    "        df['mol'] = df['smiles'].apply(lambda x: Chem.MolFromSmiles(x))\n",
    "\n",
    "        # Checking if there are None values\n",
    "        df['mol'].isnull().sum()\n",
    "\n",
    "        try:\n",
    "            # Add hidrogen molecules\n",
    "            df['mol'] = df['mol'].apply(lambda x: Chem.AddHs(x))\n",
    "        except:  # Already exists\n",
    "            pass\n",
    "\n",
    "        # Transform each element\n",
    "        df['smiles'] = list(map(\n",
    "            lambda mol: Chem.MolToSmiles(Chem.MolFromSmiles(mol), isomericSmiles=True, canonical=True),\n",
    "            df['smiles'])\n",
    "        )\n",
    "    # Getting molecules from Canon SMILES\n",
    "    df['mol'] = df['smiles'].apply(lambda x: Chem.MolFromSmiles(x))\n",
    "\n",
    "    if df['mol'].isnull().sum(): # Checking if there are None values\n",
    "        df.dropna(inplace=True, axis=0)\n",
    "\n",
    "    df_pieces = np.array_split(df, df.shape[0] // 1000 + 1)\n",
    "    # Descripting\n",
    "\n",
    "    # Use generator to care about memory\n",
    "    df_desc = pd.concat([\n",
    "        Calculator(descriptors, ignore_3D=True).pandas(df_piece['mol'])\n",
    "        for df_piece in df_pieces\n",
    "    ]\n",
    "    )\n",
    "    print(df_desc.shape)\n",
    "\n",
    "    # Add smiles to final dataset\n",
    "    df_desc[target_name] = df[target_name]\n",
    "\n",
    "    dataset_file_name = (\n",
    "            descripted_datasets_path + '/descripted_' + file_name\n",
    "    )\n",
    "    # Save to file\n",
    "    df_desc.to_csv(dataset_file_name)\n",
    "    del df_desc\n",
    "    del df\n",
    "    gc.collect()\n",
    "\n",
    "%reset -f"
   ]
  },
  {
   "cell_type": "markdown",
   "metadata": {},
   "source": [
    "# Проведём анализ одного из датасетов"
   ]
  },
  {
   "cell_type": "code",
   "execution_count": 2,
   "metadata": {
    "ExecuteTime": {
     "end_time": "2023-04-30T23:12:01.309733Z",
     "start_time": "2023-04-30T23:12:01.305705Z"
    }
   },
   "outputs": [],
   "source": [
    "datasets_path = 'descriptors'"
   ]
  },
  {
   "cell_type": "code",
   "execution_count": 3,
   "metadata": {
    "ExecuteTime": {
     "end_time": "2023-04-30T23:12:01.353579Z",
     "start_time": "2023-04-30T23:12:01.311731Z"
    }
   },
   "outputs": [
    {
     "data": {
      "text/plain": [
       "['descripted_lg_intraperitoneal_LDLo.csv',\n",
       " 'descripted_lg_intravenous_LD50.csv',\n",
       " 'descripted_lg_intravenous_LDLo.csv',\n",
       " 'descripted_lg_oral_LD50.csv',\n",
       " 'descripted_lg_oral_LDLo.csv',\n",
       " 'descripted_lg_skin_LD50.csv',\n",
       " 'descripted_lg_skin_LDLo.csv',\n",
       " 'descripted_lg_subcutaneous_LD50.csv',\n",
       " 'descripted_lg_subcutaneous_LDLo.csv']"
      ]
     },
     "execution_count": 3,
     "metadata": {},
     "output_type": "execute_result"
    }
   ],
   "source": [
    "os.listdir(datasets_path)"
   ]
  },
  {
   "cell_type": "markdown",
   "metadata": {},
   "source": [
    "1) Показатель LD50 Skin"
   ]
  },
  {
   "cell_type": "code",
   "execution_count": 4,
   "metadata": {
    "ExecuteTime": {
     "end_time": "2023-04-30T23:12:08.613458Z",
     "start_time": "2023-04-30T23:12:07.659742Z"
    },
    "jupyter": {
     "outputs_hidden": false
    }
   },
   "outputs": [
    {
     "name": "stderr",
     "output_type": "stream",
     "text": [
      "C:\\Users\\possessor\\AppData\\Local\\Temp\\ipykernel_15804\\722534372.py:1: DtypeWarning: Columns (466,467,562,563,828,844,1301) have mixed types. Specify dtype option on import or set low_memory=False.\n",
      "  df = pd.read_csv(datasets_path + '/' +'descripted_lg_skin_LD50.csv', names=None, skiprows=0)\n"
     ]
    },
    {
     "data": {
      "text/html": [
       "<div>\n",
       "<style scoped>\n",
       "    .dataframe tbody tr th:only-of-type {\n",
       "        vertical-align: middle;\n",
       "    }\n",
       "\n",
       "    .dataframe tbody tr th {\n",
       "        vertical-align: top;\n",
       "    }\n",
       "\n",
       "    .dataframe thead th {\n",
       "        text-align: right;\n",
       "    }\n",
       "</style>\n",
       "<table border=\"1\" class=\"dataframe\">\n",
       "  <thead>\n",
       "    <tr style=\"text-align: right;\">\n",
       "      <th></th>\n",
       "      <th>Unnamed: 0</th>\n",
       "      <th>ABC</th>\n",
       "      <th>ABCGG</th>\n",
       "      <th>nAcid</th>\n",
       "      <th>nBase</th>\n",
       "      <th>SpAbs_A</th>\n",
       "      <th>SpMax_A</th>\n",
       "      <th>SpDiam_A</th>\n",
       "      <th>SpAD_A</th>\n",
       "      <th>SpMAD_A</th>\n",
       "      <th>...</th>\n",
       "      <th>TSRW10</th>\n",
       "      <th>MW</th>\n",
       "      <th>AMW</th>\n",
       "      <th>WPath</th>\n",
       "      <th>WPol</th>\n",
       "      <th>Zagreb1</th>\n",
       "      <th>Zagreb2</th>\n",
       "      <th>mZagreb1</th>\n",
       "      <th>mZagreb2</th>\n",
       "      <th>LD50</th>\n",
       "    </tr>\n",
       "  </thead>\n",
       "  <tbody>\n",
       "    <tr>\n",
       "      <th>0</th>\n",
       "      <td>0</td>\n",
       "      <td>4.012290</td>\n",
       "      <td>4.284816</td>\n",
       "      <td>0</td>\n",
       "      <td>0</td>\n",
       "      <td>5.818626</td>\n",
       "      <td>2.074313</td>\n",
       "      <td>4.148627</td>\n",
       "      <td>5.818626</td>\n",
       "      <td>0.969771</td>\n",
       "      <td>...</td>\n",
       "      <td>31.665095</td>\n",
       "      <td>85.052764</td>\n",
       "      <td>6.542520</td>\n",
       "      <td>28</td>\n",
       "      <td>3</td>\n",
       "      <td>24.0</td>\n",
       "      <td>22.0</td>\n",
       "      <td>4.3125</td>\n",
       "      <td>1.375</td>\n",
       "      <td>2.753900</td>\n",
       "    </tr>\n",
       "    <tr>\n",
       "      <th>1</th>\n",
       "      <td>1</td>\n",
       "      <td>4.242641</td>\n",
       "      <td>4.000000</td>\n",
       "      <td>0</td>\n",
       "      <td>0</td>\n",
       "      <td>8.000000</td>\n",
       "      <td>2.000000</td>\n",
       "      <td>4.000000</td>\n",
       "      <td>8.000000</td>\n",
       "      <td>1.333333</td>\n",
       "      <td>...</td>\n",
       "      <td>30.941317</td>\n",
       "      <td>79.042199</td>\n",
       "      <td>7.185654</td>\n",
       "      <td>27</td>\n",
       "      <td>3</td>\n",
       "      <td>24.0</td>\n",
       "      <td>24.0</td>\n",
       "      <td>1.5000</td>\n",
       "      <td>1.500</td>\n",
       "      <td>1.898198</td>\n",
       "    </tr>\n",
       "  </tbody>\n",
       "</table>\n",
       "<p>2 rows × 1615 columns</p>\n",
       "</div>"
      ],
      "text/plain": [
       "   Unnamed: 0       ABC     ABCGG  nAcid  nBase   SpAbs_A   SpMax_A  SpDiam_A  \\\n",
       "0           0  4.012290  4.284816      0      0  5.818626  2.074313  4.148627   \n",
       "1           1  4.242641  4.000000      0      0  8.000000  2.000000  4.000000   \n",
       "\n",
       "     SpAD_A   SpMAD_A  ...     TSRW10         MW       AMW  WPath  WPol  \\\n",
       "0  5.818626  0.969771  ...  31.665095  85.052764  6.542520     28     3   \n",
       "1  8.000000  1.333333  ...  30.941317  79.042199  7.185654     27     3   \n",
       "\n",
       "   Zagreb1  Zagreb2  mZagreb1  mZagreb2      LD50  \n",
       "0     24.0     22.0    4.3125     1.375  2.753900  \n",
       "1     24.0     24.0    1.5000     1.500  1.898198  \n",
       "\n",
       "[2 rows x 1615 columns]"
      ]
     },
     "execution_count": 4,
     "metadata": {},
     "output_type": "execute_result"
    }
   ],
   "source": [
    "df = pd.read_csv(datasets_path + '/' +'descripted_lg_skin_LD50.csv', names=None, skiprows=0)\n",
    "# df.dropna(inplace=True, axis=0)\n",
    "df.head(2)"
   ]
  },
  {
   "cell_type": "code",
   "execution_count": 5,
   "metadata": {
    "ExecuteTime": {
     "end_time": "2023-04-30T23:12:11.511638Z",
     "start_time": "2023-04-30T23:12:11.495993Z"
    }
   },
   "outputs": [
    {
     "data": {
      "text/plain": [
       "(1001, 1615)"
      ]
     },
     "execution_count": 5,
     "metadata": {},
     "output_type": "execute_result"
    }
   ],
   "source": [
    "df.shape"
   ]
  },
  {
   "cell_type": "markdown",
   "metadata": {},
   "source": [
    "Нам подойдут только числовые данные:"
   ]
  },
  {
   "cell_type": "code",
   "execution_count": 6,
   "metadata": {
    "ExecuteTime": {
     "end_time": "2023-04-30T23:12:29.853149Z",
     "start_time": "2023-04-30T23:12:29.796296Z"
    }
   },
   "outputs": [
    {
     "data": {
      "text/plain": [
       "(1001, 1100)"
      ]
     },
     "execution_count": 6,
     "metadata": {},
     "output_type": "execute_result"
    }
   ],
   "source": [
    "df.select_dtypes(include=[np.number]).shape"
   ]
  },
  {
   "cell_type": "markdown",
   "metadata": {},
   "source": [
    "Одну треть данных придётся убрать"
   ]
  },
  {
   "cell_type": "code",
   "execution_count": 7,
   "metadata": {
    "ExecuteTime": {
     "end_time": "2023-04-30T23:12:35.520958Z",
     "start_time": "2023-04-30T23:12:35.493376Z"
    }
   },
   "outputs": [
    {
     "data": {
      "text/plain": [
       "(1001, 1100)"
      ]
     },
     "execution_count": 7,
     "metadata": {},
     "output_type": "execute_result"
    }
   ],
   "source": [
    "df = df.select_dtypes(include=[np.number])\n",
    "df.shape"
   ]
  },
  {
   "cell_type": "code",
   "execution_count": 9,
   "metadata": {
    "ExecuteTime": {
     "end_time": "2023-04-30T23:12:44.705279Z",
     "start_time": "2023-04-30T23:12:44.689635Z"
    },
    "jupyter": {
     "outputs_hidden": false
    }
   },
   "outputs": [],
   "source": [
    "y = df['LD50']"
   ]
  },
  {
   "cell_type": "code",
   "execution_count": 10,
   "metadata": {
    "ExecuteTime": {
     "end_time": "2023-04-30T23:12:44.958915Z",
     "start_time": "2023-04-30T23:12:44.899944Z"
    }
   },
   "outputs": [],
   "source": [
    "X = df.drop(['LD50'], axis=1)"
   ]
  },
  {
   "cell_type": "code",
   "execution_count": 11,
   "metadata": {
    "ExecuteTime": {
     "end_time": "2023-04-30T23:12:45.298567Z",
     "start_time": "2023-04-30T23:12:45.149268Z"
    }
   },
   "outputs": [
    {
     "data": {
      "text/html": [
       "<div>\n",
       "<style scoped>\n",
       "    .dataframe tbody tr th:only-of-type {\n",
       "        vertical-align: middle;\n",
       "    }\n",
       "\n",
       "    .dataframe tbody tr th {\n",
       "        vertical-align: top;\n",
       "    }\n",
       "\n",
       "    .dataframe thead th {\n",
       "        text-align: right;\n",
       "    }\n",
       "</style>\n",
       "<table border=\"1\" class=\"dataframe\">\n",
       "  <thead>\n",
       "    <tr style=\"text-align: right;\">\n",
       "      <th></th>\n",
       "      <th>ABC</th>\n",
       "      <th>ABCGG</th>\n",
       "      <th>nAcid</th>\n",
       "      <th>nBase</th>\n",
       "      <th>SpAbs_A</th>\n",
       "      <th>SpMax_A</th>\n",
       "      <th>SpDiam_A</th>\n",
       "      <th>SpAD_A</th>\n",
       "      <th>SpMAD_A</th>\n",
       "      <th>LogEE_A</th>\n",
       "      <th>...</th>\n",
       "      <th>SRW10</th>\n",
       "      <th>TSRW10</th>\n",
       "      <th>MW</th>\n",
       "      <th>AMW</th>\n",
       "      <th>WPath</th>\n",
       "      <th>WPol</th>\n",
       "      <th>Zagreb1</th>\n",
       "      <th>Zagreb2</th>\n",
       "      <th>mZagreb1</th>\n",
       "      <th>mZagreb2</th>\n",
       "    </tr>\n",
       "  </thead>\n",
       "  <tbody>\n",
       "    <tr>\n",
       "      <th>0</th>\n",
       "      <td>4.012290</td>\n",
       "      <td>4.284816</td>\n",
       "      <td>0</td>\n",
       "      <td>0</td>\n",
       "      <td>5.818626</td>\n",
       "      <td>2.074313</td>\n",
       "      <td>4.148627</td>\n",
       "      <td>5.818626</td>\n",
       "      <td>0.969771</td>\n",
       "      <td>2.626363</td>\n",
       "      <td>...</td>\n",
       "      <td>7.989899</td>\n",
       "      <td>31.665095</td>\n",
       "      <td>85.052764</td>\n",
       "      <td>6.542520</td>\n",
       "      <td>28</td>\n",
       "      <td>3</td>\n",
       "      <td>24.0</td>\n",
       "      <td>22.0</td>\n",
       "      <td>4.3125</td>\n",
       "      <td>1.375</td>\n",
       "    </tr>\n",
       "    <tr>\n",
       "      <th>1</th>\n",
       "      <td>4.242641</td>\n",
       "      <td>4.000000</td>\n",
       "      <td>0</td>\n",
       "      <td>0</td>\n",
       "      <td>8.000000</td>\n",
       "      <td>2.000000</td>\n",
       "      <td>4.000000</td>\n",
       "      <td>8.000000</td>\n",
       "      <td>1.333333</td>\n",
       "      <td>2.687624</td>\n",
       "      <td>...</td>\n",
       "      <td>7.627057</td>\n",
       "      <td>30.941317</td>\n",
       "      <td>79.042199</td>\n",
       "      <td>7.185654</td>\n",
       "      <td>27</td>\n",
       "      <td>3</td>\n",
       "      <td>24.0</td>\n",
       "      <td>24.0</td>\n",
       "      <td>1.5000</td>\n",
       "      <td>1.500</td>\n",
       "    </tr>\n",
       "  </tbody>\n",
       "</table>\n",
       "<p>2 rows × 1098 columns</p>\n",
       "</div>"
      ],
      "text/plain": [
       "        ABC     ABCGG  nAcid  nBase   SpAbs_A   SpMax_A  SpDiam_A    SpAD_A  \\\n",
       "0  4.012290  4.284816      0      0  5.818626  2.074313  4.148627  5.818626   \n",
       "1  4.242641  4.000000      0      0  8.000000  2.000000  4.000000  8.000000   \n",
       "\n",
       "    SpMAD_A   LogEE_A  ...     SRW10     TSRW10         MW       AMW  WPath  \\\n",
       "0  0.969771  2.626363  ...  7.989899  31.665095  85.052764  6.542520     28   \n",
       "1  1.333333  2.687624  ...  7.627057  30.941317  79.042199  7.185654     27   \n",
       "\n",
       "   WPol  Zagreb1  Zagreb2  mZagreb1  mZagreb2  \n",
       "0     3     24.0     22.0    4.3125     1.375  \n",
       "1     3     24.0     24.0    1.5000     1.500  \n",
       "\n",
       "[2 rows x 1098 columns]"
      ]
     },
     "execution_count": 11,
     "metadata": {},
     "output_type": "execute_result"
    }
   ],
   "source": [
    "# Delete index-column \"Unnamed\" if exists\n",
    "X.drop(X.columns[0], axis=1, inplace=True)\n",
    "X.head(2)"
   ]
  },
  {
   "cell_type": "code",
   "execution_count": 12,
   "metadata": {
    "ExecuteTime": {
     "end_time": "2023-04-30T23:12:45.476855Z",
     "start_time": "2023-04-30T23:12:45.425953Z"
    }
   },
   "outputs": [
    {
     "data": {
      "text/plain": [
       "0"
      ]
     },
     "execution_count": 12,
     "metadata": {},
     "output_type": "execute_result"
    }
   ],
   "source": [
    "# Checking if there are None values\n",
    "X.isnull().sum().sum()"
   ]
  },
  {
   "cell_type": "code",
   "execution_count": 13,
   "metadata": {
    "ExecuteTime": {
     "end_time": "2023-04-30T23:12:48.878475Z",
     "start_time": "2023-04-30T23:12:45.909066Z"
    },
    "jupyter": {
     "outputs_hidden": false
    }
   },
   "outputs": [
    {
     "data": {
      "text/html": [
       "<div>\n",
       "<style scoped>\n",
       "    .dataframe tbody tr th:only-of-type {\n",
       "        vertical-align: middle;\n",
       "    }\n",
       "\n",
       "    .dataframe tbody tr th {\n",
       "        vertical-align: top;\n",
       "    }\n",
       "\n",
       "    .dataframe thead th {\n",
       "        text-align: right;\n",
       "    }\n",
       "</style>\n",
       "<table border=\"1\" class=\"dataframe\">\n",
       "  <thead>\n",
       "    <tr style=\"text-align: right;\">\n",
       "      <th></th>\n",
       "      <th>ABC</th>\n",
       "      <th>ABCGG</th>\n",
       "      <th>nAcid</th>\n",
       "      <th>nBase</th>\n",
       "      <th>SpAbs_A</th>\n",
       "      <th>SpMax_A</th>\n",
       "      <th>SpDiam_A</th>\n",
       "      <th>SpAD_A</th>\n",
       "      <th>SpMAD_A</th>\n",
       "      <th>LogEE_A</th>\n",
       "      <th>...</th>\n",
       "      <th>SRW10</th>\n",
       "      <th>TSRW10</th>\n",
       "      <th>MW</th>\n",
       "      <th>AMW</th>\n",
       "      <th>WPath</th>\n",
       "      <th>WPol</th>\n",
       "      <th>Zagreb1</th>\n",
       "      <th>Zagreb2</th>\n",
       "      <th>mZagreb1</th>\n",
       "      <th>mZagreb2</th>\n",
       "    </tr>\n",
       "  </thead>\n",
       "  <tbody>\n",
       "    <tr>\n",
       "      <th>count</th>\n",
       "      <td>1001.000000</td>\n",
       "      <td>1001.000000</td>\n",
       "      <td>1001.000000</td>\n",
       "      <td>1001.000000</td>\n",
       "      <td>1001.000000</td>\n",
       "      <td>1001.000000</td>\n",
       "      <td>1001.000000</td>\n",
       "      <td>1001.000000</td>\n",
       "      <td>1001.000000</td>\n",
       "      <td>1001.000000</td>\n",
       "      <td>...</td>\n",
       "      <td>1001.000000</td>\n",
       "      <td>1001.000000</td>\n",
       "      <td>1001.000000</td>\n",
       "      <td>1001.000000</td>\n",
       "      <td>1001.000000</td>\n",
       "      <td>1001.000000</td>\n",
       "      <td>1001.000000</td>\n",
       "      <td>1001.000000</td>\n",
       "      <td>1001.000000</td>\n",
       "      <td>1001.000000</td>\n",
       "    </tr>\n",
       "    <tr>\n",
       "      <th>mean</th>\n",
       "      <td>9.387829</td>\n",
       "      <td>8.665592</td>\n",
       "      <td>0.054945</td>\n",
       "      <td>0.094905</td>\n",
       "      <td>15.634240</td>\n",
       "      <td>2.199986</td>\n",
       "      <td>4.369666</td>\n",
       "      <td>15.634240</td>\n",
       "      <td>1.183018</td>\n",
       "      <td>3.323855</td>\n",
       "      <td>...</td>\n",
       "      <td>8.674044</td>\n",
       "      <td>44.208130</td>\n",
       "      <td>201.236917</td>\n",
       "      <td>8.356331</td>\n",
       "      <td>422.742258</td>\n",
       "      <td>15.760240</td>\n",
       "      <td>59.314685</td>\n",
       "      <td>65.498501</td>\n",
       "      <td>5.567183</td>\n",
       "      <td>3.065587</td>\n",
       "    </tr>\n",
       "    <tr>\n",
       "      <th>std</th>\n",
       "      <td>4.833930</td>\n",
       "      <td>3.884279</td>\n",
       "      <td>0.289790</td>\n",
       "      <td>0.419504</td>\n",
       "      <td>7.803980</td>\n",
       "      <td>0.243174</td>\n",
       "      <td>0.457146</td>\n",
       "      <td>7.803980</td>\n",
       "      <td>0.095911</td>\n",
       "      <td>0.520453</td>\n",
       "      <td>...</td>\n",
       "      <td>1.214665</td>\n",
       "      <td>12.663434</td>\n",
       "      <td>94.680487</td>\n",
       "      <td>4.043696</td>\n",
       "      <td>699.343061</td>\n",
       "      <td>11.915304</td>\n",
       "      <td>34.165097</td>\n",
       "      <td>42.578542</td>\n",
       "      <td>2.360021</td>\n",
       "      <td>1.319154</td>\n",
       "    </tr>\n",
       "    <tr>\n",
       "      <th>min</th>\n",
       "      <td>0.000000</td>\n",
       "      <td>0.000000</td>\n",
       "      <td>0.000000</td>\n",
       "      <td>0.000000</td>\n",
       "      <td>2.000000</td>\n",
       "      <td>1.000000</td>\n",
       "      <td>2.000000</td>\n",
       "      <td>2.000000</td>\n",
       "      <td>0.800000</td>\n",
       "      <td>1.407606</td>\n",
       "      <td>...</td>\n",
       "      <td>1.098612</td>\n",
       "      <td>7.493061</td>\n",
       "      <td>31.042199</td>\n",
       "      <td>4.358613</td>\n",
       "      <td>1.000000</td>\n",
       "      <td>0.000000</td>\n",
       "      <td>2.000000</td>\n",
       "      <td>1.000000</td>\n",
       "      <td>0.750000</td>\n",
       "      <td>0.750000</td>\n",
       "    </tr>\n",
       "    <tr>\n",
       "      <th>25%</th>\n",
       "      <td>5.875634</td>\n",
       "      <td>6.068455</td>\n",
       "      <td>0.000000</td>\n",
       "      <td>0.000000</td>\n",
       "      <td>10.175084</td>\n",
       "      <td>2.052881</td>\n",
       "      <td>4.105762</td>\n",
       "      <td>10.175084</td>\n",
       "      <td>1.136687</td>\n",
       "      <td>3.008457</td>\n",
       "      <td>...</td>\n",
       "      <td>8.052933</td>\n",
       "      <td>36.546958</td>\n",
       "      <td>134.094294</td>\n",
       "      <td>6.004179</td>\n",
       "      <td>86.000000</td>\n",
       "      <td>7.000000</td>\n",
       "      <td>36.000000</td>\n",
       "      <td>36.000000</td>\n",
       "      <td>3.861111</td>\n",
       "      <td>2.166667</td>\n",
       "    </tr>\n",
       "    <tr>\n",
       "      <th>50%</th>\n",
       "      <td>8.633455</td>\n",
       "      <td>8.248586</td>\n",
       "      <td>0.000000</td>\n",
       "      <td>0.000000</td>\n",
       "      <td>14.510052</td>\n",
       "      <td>2.236068</td>\n",
       "      <td>4.472136</td>\n",
       "      <td>14.510052</td>\n",
       "      <td>1.194315</td>\n",
       "      <td>3.372523</td>\n",
       "      <td>...</td>\n",
       "      <td>8.906935</td>\n",
       "      <td>42.724397</td>\n",
       "      <td>183.847482</td>\n",
       "      <td>7.177347</td>\n",
       "      <td>215.000000</td>\n",
       "      <td>14.000000</td>\n",
       "      <td>54.000000</td>\n",
       "      <td>59.000000</td>\n",
       "      <td>5.173611</td>\n",
       "      <td>2.888889</td>\n",
       "    </tr>\n",
       "    <tr>\n",
       "      <th>75%</th>\n",
       "      <td>12.130205</td>\n",
       "      <td>10.923744</td>\n",
       "      <td>0.000000</td>\n",
       "      <td>0.000000</td>\n",
       "      <td>20.064146</td>\n",
       "      <td>2.352239</td>\n",
       "      <td>4.675495</td>\n",
       "      <td>20.064146</td>\n",
       "      <td>1.245407</td>\n",
       "      <td>3.691183</td>\n",
       "      <td>...</td>\n",
       "      <td>9.477386</td>\n",
       "      <td>50.342321</td>\n",
       "      <td>258.960312</td>\n",
       "      <td>9.094782</td>\n",
       "      <td>495.000000</td>\n",
       "      <td>22.000000</td>\n",
       "      <td>78.000000</td>\n",
       "      <td>89.000000</td>\n",
       "      <td>6.944444</td>\n",
       "      <td>3.736111</td>\n",
       "    </tr>\n",
       "    <tr>\n",
       "      <th>max</th>\n",
       "      <td>42.893681</td>\n",
       "      <td>33.219814</td>\n",
       "      <td>4.000000</td>\n",
       "      <td>4.000000</td>\n",
       "      <td>69.059166</td>\n",
       "      <td>3.187649</td>\n",
       "      <td>6.093353</td>\n",
       "      <td>69.059166</td>\n",
       "      <td>1.475343</td>\n",
       "      <td>4.955612</td>\n",
       "      <td>...</td>\n",
       "      <td>12.045147</td>\n",
       "      <td>115.108035</td>\n",
       "      <td>703.239061</td>\n",
       "      <td>34.370465</td>\n",
       "      <td>10968.000000</td>\n",
       "      <td>109.000000</td>\n",
       "      <td>320.000000</td>\n",
       "      <td>417.000000</td>\n",
       "      <td>21.340278</td>\n",
       "      <td>10.847222</td>\n",
       "    </tr>\n",
       "  </tbody>\n",
       "</table>\n",
       "<p>8 rows × 1098 columns</p>\n",
       "</div>"
      ],
      "text/plain": [
       "               ABC        ABCGG        nAcid        nBase      SpAbs_A  \\\n",
       "count  1001.000000  1001.000000  1001.000000  1001.000000  1001.000000   \n",
       "mean      9.387829     8.665592     0.054945     0.094905    15.634240   \n",
       "std       4.833930     3.884279     0.289790     0.419504     7.803980   \n",
       "min       0.000000     0.000000     0.000000     0.000000     2.000000   \n",
       "25%       5.875634     6.068455     0.000000     0.000000    10.175084   \n",
       "50%       8.633455     8.248586     0.000000     0.000000    14.510052   \n",
       "75%      12.130205    10.923744     0.000000     0.000000    20.064146   \n",
       "max      42.893681    33.219814     4.000000     4.000000    69.059166   \n",
       "\n",
       "           SpMax_A     SpDiam_A       SpAD_A      SpMAD_A      LogEE_A  ...  \\\n",
       "count  1001.000000  1001.000000  1001.000000  1001.000000  1001.000000  ...   \n",
       "mean      2.199986     4.369666    15.634240     1.183018     3.323855  ...   \n",
       "std       0.243174     0.457146     7.803980     0.095911     0.520453  ...   \n",
       "min       1.000000     2.000000     2.000000     0.800000     1.407606  ...   \n",
       "25%       2.052881     4.105762    10.175084     1.136687     3.008457  ...   \n",
       "50%       2.236068     4.472136    14.510052     1.194315     3.372523  ...   \n",
       "75%       2.352239     4.675495    20.064146     1.245407     3.691183  ...   \n",
       "max       3.187649     6.093353    69.059166     1.475343     4.955612  ...   \n",
       "\n",
       "             SRW10       TSRW10           MW          AMW         WPath  \\\n",
       "count  1001.000000  1001.000000  1001.000000  1001.000000   1001.000000   \n",
       "mean      8.674044    44.208130   201.236917     8.356331    422.742258   \n",
       "std       1.214665    12.663434    94.680487     4.043696    699.343061   \n",
       "min       1.098612     7.493061    31.042199     4.358613      1.000000   \n",
       "25%       8.052933    36.546958   134.094294     6.004179     86.000000   \n",
       "50%       8.906935    42.724397   183.847482     7.177347    215.000000   \n",
       "75%       9.477386    50.342321   258.960312     9.094782    495.000000   \n",
       "max      12.045147   115.108035   703.239061    34.370465  10968.000000   \n",
       "\n",
       "              WPol      Zagreb1      Zagreb2     mZagreb1     mZagreb2  \n",
       "count  1001.000000  1001.000000  1001.000000  1001.000000  1001.000000  \n",
       "mean     15.760240    59.314685    65.498501     5.567183     3.065587  \n",
       "std      11.915304    34.165097    42.578542     2.360021     1.319154  \n",
       "min       0.000000     2.000000     1.000000     0.750000     0.750000  \n",
       "25%       7.000000    36.000000    36.000000     3.861111     2.166667  \n",
       "50%      14.000000    54.000000    59.000000     5.173611     2.888889  \n",
       "75%      22.000000    78.000000    89.000000     6.944444     3.736111  \n",
       "max     109.000000   320.000000   417.000000    21.340278    10.847222  \n",
       "\n",
       "[8 rows x 1098 columns]"
      ]
     },
     "execution_count": 13,
     "metadata": {},
     "output_type": "execute_result"
    }
   ],
   "source": [
    "X.describe()"
   ]
  },
  {
   "cell_type": "markdown",
   "metadata": {},
   "source": [
    "### Удаление выбросов"
   ]
  },
  {
   "cell_type": "markdown",
   "metadata": {},
   "source": [
    "Посмотрим на несколько гистограмм"
   ]
  },
  {
   "cell_type": "code",
   "execution_count": 14,
   "metadata": {
    "ExecuteTime": {
     "end_time": "2023-04-30T23:12:49.224813Z",
     "start_time": "2023-04-30T23:12:48.878475Z"
    }
   },
   "outputs": [
    {
     "data": {
      "text/plain": [
       "<Axes: >"
      ]
     },
     "execution_count": 14,
     "metadata": {},
     "output_type": "execute_result"
    },
    {
     "data": {
      "image/png": "[encoded data removed]",
      "text/plain": [
       "<Figure size 640x480 with 1 Axes>"
      ]
     },
     "metadata": {},
     "output_type": "display_data"
    }
   ],
   "source": [
    "X.iloc[:, 1].hist()"
   ]
  },
  {
   "cell_type": "code",
   "execution_count": 15,
   "metadata": {
    "ExecuteTime": {
     "end_time": "2023-04-30T23:12:49.421214Z",
     "start_time": "2023-04-30T23:12:49.209177Z"
    }
   },
   "outputs": [
    {
     "data": {
      "text/plain": [
       "<Axes: >"
      ]
     },
     "execution_count": 15,
     "metadata": {},
     "output_type": "execute_result"
    },
    {
     "data": {
      "image/png": "[encoded data removed]",
      "text/plain": [
       "<Figure size 640x480 with 1 Axes>"
      ]
     },
     "metadata": {},
     "output_type": "display_data"
    }
   ],
   "source": [
    "X.iloc[:, 3].hist()"
   ]
  },
  {
   "cell_type": "code",
   "execution_count": 16,
   "metadata": {
    "ExecuteTime": {
     "end_time": "2023-04-30T23:12:49.644589Z",
     "start_time": "2023-04-30T23:12:49.421214Z"
    }
   },
   "outputs": [
    {
     "data": {
      "text/plain": [
       "<Axes: >"
      ]
     },
     "execution_count": 16,
     "metadata": {},
     "output_type": "execute_result"
    },
    {
     "data": {
      "image/png": "[encoded data removed]",
      "text/plain": [
       "<Figure size 640x480 with 1 Axes>"
      ]
     },
     "metadata": {},
     "output_type": "display_data"
    }
   ],
   "source": [
    "X.iloc[:, 90].hist()"
   ]
  },
  {
   "cell_type": "code",
   "execution_count": 17,
   "metadata": {
    "ExecuteTime": {
     "end_time": "2023-04-30T23:12:49.865769Z",
     "start_time": "2023-04-30T23:12:49.644589Z"
    }
   },
   "outputs": [
    {
     "data": {
      "text/plain": [
       "<Axes: >"
      ]
     },
     "execution_count": 17,
     "metadata": {},
     "output_type": "execute_result"
    },
    {
     "data": {
      "image/png": "[encoded data removed]",
      "text/plain": [
       "<Figure size 640x480 with 1 Axes>"
      ]
     },
     "metadata": {},
     "output_type": "display_data"
    }
   ],
   "source": [
    "X.iloc[:, 700].hist()"
   ]
  },
  {
   "cell_type": "code",
   "execution_count": 18,
   "metadata": {
    "ExecuteTime": {
     "end_time": "2023-04-30T23:12:51.051278Z",
     "start_time": "2023-04-30T23:12:50.809488Z"
    }
   },
   "outputs": [
    {
     "data": {
      "text/plain": [
       "<Axes: >"
      ]
     },
     "execution_count": 18,
     "metadata": {},
     "output_type": "execute_result"
    },
    {
     "data": {
      "image/png": "[encoded data removed]",
      "text/plain": [
       "<Figure size 640x480 with 1 Axes>"
      ]
     },
     "metadata": {},
     "output_type": "display_data"
    }
   ],
   "source": [
    "X.iloc[:, 1].hist()"
   ]
  },
  {
   "cell_type": "markdown",
   "metadata": {},
   "source": [
    "Гистограммы подтверждают данные функции describe() - в данных много выбросов"
   ]
  },
  {
   "cell_type": "code",
   "execution_count": 19,
   "metadata": {
    "ExecuteTime": {
     "end_time": "2023-04-30T23:12:55.916627Z",
     "start_time": "2023-04-30T23:12:53.460021Z"
    }
   },
   "outputs": [],
   "source": [
    "description = X.describe()"
   ]
  },
  {
   "cell_type": "code",
   "execution_count": 20,
   "metadata": {
    "ExecuteTime": {
     "end_time": "2023-04-30T23:12:55.946476Z",
     "start_time": "2023-04-30T23:12:55.916627Z"
    }
   },
   "outputs": [
    {
     "data": {
      "text/html": [
       "<div>\n",
       "<style scoped>\n",
       "    .dataframe tbody tr th:only-of-type {\n",
       "        vertical-align: middle;\n",
       "    }\n",
       "\n",
       "    .dataframe tbody tr th {\n",
       "        vertical-align: top;\n",
       "    }\n",
       "\n",
       "    .dataframe thead th {\n",
       "        text-align: right;\n",
       "    }\n",
       "</style>\n",
       "<table border=\"1\" class=\"dataframe\">\n",
       "  <thead>\n",
       "    <tr style=\"text-align: right;\">\n",
       "      <th></th>\n",
       "      <th>ABC</th>\n",
       "      <th>ABCGG</th>\n",
       "      <th>nAcid</th>\n",
       "      <th>nBase</th>\n",
       "      <th>SpAbs_A</th>\n",
       "      <th>SpMax_A</th>\n",
       "      <th>SpDiam_A</th>\n",
       "      <th>SpAD_A</th>\n",
       "      <th>SpMAD_A</th>\n",
       "      <th>LogEE_A</th>\n",
       "      <th>...</th>\n",
       "      <th>SRW10</th>\n",
       "      <th>TSRW10</th>\n",
       "      <th>MW</th>\n",
       "      <th>AMW</th>\n",
       "      <th>WPath</th>\n",
       "      <th>WPol</th>\n",
       "      <th>Zagreb1</th>\n",
       "      <th>Zagreb2</th>\n",
       "      <th>mZagreb1</th>\n",
       "      <th>mZagreb2</th>\n",
       "    </tr>\n",
       "  </thead>\n",
       "  <tbody>\n",
       "    <tr>\n",
       "      <th>count</th>\n",
       "      <td>1001.000000</td>\n",
       "      <td>1001.000000</td>\n",
       "      <td>1001.000000</td>\n",
       "      <td>1001.000000</td>\n",
       "      <td>1001.000000</td>\n",
       "      <td>1001.000000</td>\n",
       "      <td>1001.000000</td>\n",
       "      <td>1001.000000</td>\n",
       "      <td>1001.000000</td>\n",
       "      <td>1001.000000</td>\n",
       "      <td>...</td>\n",
       "      <td>1001.000000</td>\n",
       "      <td>1001.000000</td>\n",
       "      <td>1001.000000</td>\n",
       "      <td>1001.000000</td>\n",
       "      <td>1001.000000</td>\n",
       "      <td>1001.000000</td>\n",
       "      <td>1001.000000</td>\n",
       "      <td>1001.000000</td>\n",
       "      <td>1001.000000</td>\n",
       "      <td>1001.000000</td>\n",
       "    </tr>\n",
       "    <tr>\n",
       "      <th>mean</th>\n",
       "      <td>9.387829</td>\n",
       "      <td>8.665592</td>\n",
       "      <td>0.054945</td>\n",
       "      <td>0.094905</td>\n",
       "      <td>15.634240</td>\n",
       "      <td>2.199986</td>\n",
       "      <td>4.369666</td>\n",
       "      <td>15.634240</td>\n",
       "      <td>1.183018</td>\n",
       "      <td>3.323855</td>\n",
       "      <td>...</td>\n",
       "      <td>8.674044</td>\n",
       "      <td>44.208130</td>\n",
       "      <td>201.236917</td>\n",
       "      <td>8.356331</td>\n",
       "      <td>422.742258</td>\n",
       "      <td>15.760240</td>\n",
       "      <td>59.314685</td>\n",
       "      <td>65.498501</td>\n",
       "      <td>5.567183</td>\n",
       "      <td>3.065587</td>\n",
       "    </tr>\n",
       "    <tr>\n",
       "      <th>std</th>\n",
       "      <td>4.833930</td>\n",
       "      <td>3.884279</td>\n",
       "      <td>0.289790</td>\n",
       "      <td>0.419504</td>\n",
       "      <td>7.803980</td>\n",
       "      <td>0.243174</td>\n",
       "      <td>0.457146</td>\n",
       "      <td>7.803980</td>\n",
       "      <td>0.095911</td>\n",
       "      <td>0.520453</td>\n",
       "      <td>...</td>\n",
       "      <td>1.214665</td>\n",
       "      <td>12.663434</td>\n",
       "      <td>94.680487</td>\n",
       "      <td>4.043696</td>\n",
       "      <td>699.343061</td>\n",
       "      <td>11.915304</td>\n",
       "      <td>34.165097</td>\n",
       "      <td>42.578542</td>\n",
       "      <td>2.360021</td>\n",
       "      <td>1.319154</td>\n",
       "    </tr>\n",
       "    <tr>\n",
       "      <th>min</th>\n",
       "      <td>0.000000</td>\n",
       "      <td>0.000000</td>\n",
       "      <td>0.000000</td>\n",
       "      <td>0.000000</td>\n",
       "      <td>2.000000</td>\n",
       "      <td>1.000000</td>\n",
       "      <td>2.000000</td>\n",
       "      <td>2.000000</td>\n",
       "      <td>0.800000</td>\n",
       "      <td>1.407606</td>\n",
       "      <td>...</td>\n",
       "      <td>1.098612</td>\n",
       "      <td>7.493061</td>\n",
       "      <td>31.042199</td>\n",
       "      <td>4.358613</td>\n",
       "      <td>1.000000</td>\n",
       "      <td>0.000000</td>\n",
       "      <td>2.000000</td>\n",
       "      <td>1.000000</td>\n",
       "      <td>0.750000</td>\n",
       "      <td>0.750000</td>\n",
       "    </tr>\n",
       "    <tr>\n",
       "      <th>25%</th>\n",
       "      <td>5.875634</td>\n",
       "      <td>6.068455</td>\n",
       "      <td>0.000000</td>\n",
       "      <td>0.000000</td>\n",
       "      <td>10.175084</td>\n",
       "      <td>2.052881</td>\n",
       "      <td>4.105762</td>\n",
       "      <td>10.175084</td>\n",
       "      <td>1.136687</td>\n",
       "      <td>3.008457</td>\n",
       "      <td>...</td>\n",
       "      <td>8.052933</td>\n",
       "      <td>36.546958</td>\n",
       "      <td>134.094294</td>\n",
       "      <td>6.004179</td>\n",
       "      <td>86.000000</td>\n",
       "      <td>7.000000</td>\n",
       "      <td>36.000000</td>\n",
       "      <td>36.000000</td>\n",
       "      <td>3.861111</td>\n",
       "      <td>2.166667</td>\n",
       "    </tr>\n",
       "    <tr>\n",
       "      <th>50%</th>\n",
       "      <td>8.633455</td>\n",
       "      <td>8.248586</td>\n",
       "      <td>0.000000</td>\n",
       "      <td>0.000000</td>\n",
       "      <td>14.510052</td>\n",
       "      <td>2.236068</td>\n",
       "      <td>4.472136</td>\n",
       "      <td>14.510052</td>\n",
       "      <td>1.194315</td>\n",
       "      <td>3.372523</td>\n",
       "      <td>...</td>\n",
       "      <td>8.906935</td>\n",
       "      <td>42.724397</td>\n",
       "      <td>183.847482</td>\n",
       "      <td>7.177347</td>\n",
       "      <td>215.000000</td>\n",
       "      <td>14.000000</td>\n",
       "      <td>54.000000</td>\n",
       "      <td>59.000000</td>\n",
       "      <td>5.173611</td>\n",
       "      <td>2.888889</td>\n",
       "    </tr>\n",
       "    <tr>\n",
       "      <th>75%</th>\n",
       "      <td>12.130205</td>\n",
       "      <td>10.923744</td>\n",
       "      <td>0.000000</td>\n",
       "      <td>0.000000</td>\n",
       "      <td>20.064146</td>\n",
       "      <td>2.352239</td>\n",
       "      <td>4.675495</td>\n",
       "      <td>20.064146</td>\n",
       "      <td>1.245407</td>\n",
       "      <td>3.691183</td>\n",
       "      <td>...</td>\n",
       "      <td>9.477386</td>\n",
       "      <td>50.342321</td>\n",
       "      <td>258.960312</td>\n",
       "      <td>9.094782</td>\n",
       "      <td>495.000000</td>\n",
       "      <td>22.000000</td>\n",
       "      <td>78.000000</td>\n",
       "      <td>89.000000</td>\n",
       "      <td>6.944444</td>\n",
       "      <td>3.736111</td>\n",
       "    </tr>\n",
       "    <tr>\n",
       "      <th>max</th>\n",
       "      <td>42.893681</td>\n",
       "      <td>33.219814</td>\n",
       "      <td>4.000000</td>\n",
       "      <td>4.000000</td>\n",
       "      <td>69.059166</td>\n",
       "      <td>3.187649</td>\n",
       "      <td>6.093353</td>\n",
       "      <td>69.059166</td>\n",
       "      <td>1.475343</td>\n",
       "      <td>4.955612</td>\n",
       "      <td>...</td>\n",
       "      <td>12.045147</td>\n",
       "      <td>115.108035</td>\n",
       "      <td>703.239061</td>\n",
       "      <td>34.370465</td>\n",
       "      <td>10968.000000</td>\n",
       "      <td>109.000000</td>\n",
       "      <td>320.000000</td>\n",
       "      <td>417.000000</td>\n",
       "      <td>21.340278</td>\n",
       "      <td>10.847222</td>\n",
       "    </tr>\n",
       "  </tbody>\n",
       "</table>\n",
       "<p>8 rows × 1098 columns</p>\n",
       "</div>"
      ],
      "text/plain": [
       "               ABC        ABCGG        nAcid        nBase      SpAbs_A  \\\n",
       "count  1001.000000  1001.000000  1001.000000  1001.000000  1001.000000   \n",
       "mean      9.387829     8.665592     0.054945     0.094905    15.634240   \n",
       "std       4.833930     3.884279     0.289790     0.419504     7.803980   \n",
       "min       0.000000     0.000000     0.000000     0.000000     2.000000   \n",
       "25%       5.875634     6.068455     0.000000     0.000000    10.175084   \n",
       "50%       8.633455     8.248586     0.000000     0.000000    14.510052   \n",
       "75%      12.130205    10.923744     0.000000     0.000000    20.064146   \n",
       "max      42.893681    33.219814     4.000000     4.000000    69.059166   \n",
       "\n",
       "           SpMax_A     SpDiam_A       SpAD_A      SpMAD_A      LogEE_A  ...  \\\n",
       "count  1001.000000  1001.000000  1001.000000  1001.000000  1001.000000  ...   \n",
       "mean      2.199986     4.369666    15.634240     1.183018     3.323855  ...   \n",
       "std       0.243174     0.457146     7.803980     0.095911     0.520453  ...   \n",
       "min       1.000000     2.000000     2.000000     0.800000     1.407606  ...   \n",
       "25%       2.052881     4.105762    10.175084     1.136687     3.008457  ...   \n",
       "50%       2.236068     4.472136    14.510052     1.194315     3.372523  ...   \n",
       "75%       2.352239     4.675495    20.064146     1.245407     3.691183  ...   \n",
       "max       3.187649     6.093353    69.059166     1.475343     4.955612  ...   \n",
       "\n",
       "             SRW10       TSRW10           MW          AMW         WPath  \\\n",
       "count  1001.000000  1001.000000  1001.000000  1001.000000   1001.000000   \n",
       "mean      8.674044    44.208130   201.236917     8.356331    422.742258   \n",
       "std       1.214665    12.663434    94.680487     4.043696    699.343061   \n",
       "min       1.098612     7.493061    31.042199     4.358613      1.000000   \n",
       "25%       8.052933    36.546958   134.094294     6.004179     86.000000   \n",
       "50%       8.906935    42.724397   183.847482     7.177347    215.000000   \n",
       "75%       9.477386    50.342321   258.960312     9.094782    495.000000   \n",
       "max      12.045147   115.108035   703.239061    34.370465  10968.000000   \n",
       "\n",
       "              WPol      Zagreb1      Zagreb2     mZagreb1     mZagreb2  \n",
       "count  1001.000000  1001.000000  1001.000000  1001.000000  1001.000000  \n",
       "mean     15.760240    59.314685    65.498501     5.567183     3.065587  \n",
       "std      11.915304    34.165097    42.578542     2.360021     1.319154  \n",
       "min       0.000000     2.000000     1.000000     0.750000     0.750000  \n",
       "25%       7.000000    36.000000    36.000000     3.861111     2.166667  \n",
       "50%      14.000000    54.000000    59.000000     5.173611     2.888889  \n",
       "75%      22.000000    78.000000    89.000000     6.944444     3.736111  \n",
       "max     109.000000   320.000000   417.000000    21.340278    10.847222  \n",
       "\n",
       "[8 rows x 1098 columns]"
      ]
     },
     "execution_count": 20,
     "metadata": {},
     "output_type": "execute_result"
    }
   ],
   "source": [
    "description"
   ]
  },
  {
   "cell_type": "markdown",
   "metadata": {},
   "source": [
    "Удалим выбросы: если третий квартиль равен нулю, удаляем весь столбец. Иначе удаляем только выбросы."
   ]
  },
  {
   "cell_type": "code",
   "execution_count": 22,
   "metadata": {
    "ExecuteTime": {
     "end_time": "2023-04-30T23:13:02.026251Z",
     "start_time": "2023-04-30T23:12:57.482388Z"
    }
   },
   "outputs": [],
   "source": [
    "for column in X.columns:\n",
    "    d = description[column]\n",
    "    qrtl2 = d['50%']\n",
    "    qrtl3 = d['75%']\n",
    "    max_v = d['max']\n",
    "    if qrtl2 == 0.0 and qrtl3 == 0.0:\n",
    "        X.drop(column, axis=1, inplace=True)\n",
    "    else:\n",
    "        X = X[X[column] < max_v * 0.99]\n",
    "    del d\n",
    "    del qrtl2\n",
    "    del qrtl3\n",
    "    del max_v"
   ]
  },
  {
   "cell_type": "code",
   "execution_count": 23,
   "metadata": {
    "ExecuteTime": {
     "end_time": "2023-04-30T23:13:02.157751Z",
     "start_time": "2023-04-30T23:13:02.157751Z"
    }
   },
   "outputs": [
    {
     "data": {
      "text/plain": [
       "(318, 769)"
      ]
     },
     "execution_count": 23,
     "metadata": {},
     "output_type": "execute_result"
    }
   ],
   "source": [
    "X.shape"
   ]
  },
  {
   "cell_type": "markdown",
   "metadata": {},
   "source": [
    "Splitting the data"
   ]
  },
  {
   "cell_type": "code",
   "execution_count": 17,
   "metadata": {
    "ExecuteTime": {
     "end_time": "2023-04-29T17:35:16.260402Z",
     "start_time": "2023-04-29T17:35:16.260402Z"
    }
   },
   "outputs": [],
   "source": [
    "\n",
    "X_train, X_test, y_train, y_test = train_test_split(X, y,\n",
    "                                                    test_size=0.2, random_state=42)"
   ]
  },
  {
   "cell_type": "markdown",
   "metadata": {},
   "source": [
    "# Model training"
   ]
  },
  {
   "cell_type": "code",
   "execution_count": 18,
   "metadata": {
    "ExecuteTime": {
     "end_time": "2023-04-29T17:35:16.260402Z",
     "start_time": "2023-04-29T17:35:16.260402Z"
    },
    "jupyter": {
     "outputs_hidden": false
    }
   },
   "outputs": [],
   "source": [
    "def calculate_rmse(y_test, y_pred):\n",
    "    return np.sqrt(mean_squared_error(y_true=y_test, y_pred=y_pred))"
   ]
  },
  {
   "cell_type": "code",
   "execution_count": 79,
   "metadata": {
    "ExecuteTime": {
     "end_time": "2023-04-29T17:46:01.108226Z",
     "start_time": "2023-04-29T17:46:00.998656Z"
    },
    "jupyter": {
     "outputs_hidden": false
    }
   },
   "outputs": [],
   "source": [
    "def show_result(y_test, y_pred):\n",
    "    return pd.DataFrame(\n",
    "        np.array(\n",
    "            [np.array(y_test), y_pred, np.array(y_test) - y_pred]\n",
    "        ).T,\n",
    "        columns=['TRUE', 'PRED', 'ABS ERROR'])"
   ]
  },
  {
   "cell_type": "markdown",
   "metadata": {},
   "source": [
    "## ML models"
   ]
  },
  {
   "cell_type": "code",
   "execution_count": 27,
   "metadata": {
    "ExecuteTime": {
     "end_time": "2023-04-29T17:35:25.704590Z",
     "start_time": "2023-04-29T17:35:25.406015Z"
    },
    "jupyter": {
     "outputs_hidden": false
    }
   },
   "outputs": [],
   "source": [
    "from sklearn.linear_model import LinearRegression\n",
    "from sklearn.ensemble import RandomForestRegressor"
   ]
  },
  {
   "cell_type": "markdown",
   "metadata": {},
   "source": [
    "### Linear Regression"
   ]
  },
  {
   "cell_type": "code",
   "execution_count": 89,
   "metadata": {
    "ExecuteTime": {
     "end_time": "2023-04-29T17:46:59.922683Z",
     "start_time": "2023-04-29T17:46:59.164703Z"
    },
    "jupyter": {
     "outputs_hidden": false
    }
   },
   "outputs": [
    {
     "data": {
      "text/plain": [
       "LinearRegression(n_jobs=-1)"
      ]
     },
     "execution_count": 89,
     "metadata": {},
     "output_type": "execute_result"
    }
   ],
   "source": [
    "model = LinearRegression(fit_intercept=True, copy_X=True, n_jobs=-1)\n",
    "model.fit(X_train, y_train)"
   ]
  },
  {
   "cell_type": "code",
   "execution_count": 90,
   "metadata": {
    "ExecuteTime": {
     "end_time": "2023-04-29T17:46:59.922683Z",
     "start_time": "2023-04-29T17:46:59.922683Z"
    },
    "jupyter": {
     "outputs_hidden": false
    }
   },
   "outputs": [],
   "source": [
    "y_pred = model.predict(X_test)"
   ]
  },
  {
   "cell_type": "code",
   "execution_count": 92,
   "metadata": {
    "ExecuteTime": {
     "end_time": "2023-04-29T17:46:59.922683Z",
     "start_time": "2023-04-29T17:46:59.922683Z"
    },
    "jupyter": {
     "outputs_hidden": false
    }
   },
   "outputs": [
    {
     "data": {
      "text/plain": [
       "0.1612917251124116"
      ]
     },
     "execution_count": 92,
     "metadata": {},
     "output_type": "execute_result"
    }
   ],
   "source": [
    "calculate_rmse(y_test=y_test, y_pred=y_pred)"
   ]
  },
  {
   "cell_type": "code",
   "execution_count": 93,
   "metadata": {
    "ExecuteTime": {
     "end_time": "2023-04-29T17:47:00.216622Z",
     "start_time": "2023-04-29T17:47:00.075958Z"
    },
    "jupyter": {
     "outputs_hidden": false
    }
   },
   "outputs": [
    {
     "data": {
      "text/html": [
       "<div>\n",
       "<style scoped>\n",
       "    .dataframe tbody tr th:only-of-type {\n",
       "        vertical-align: middle;\n",
       "    }\n",
       "\n",
       "    .dataframe tbody tr th {\n",
       "        vertical-align: top;\n",
       "    }\n",
       "\n",
       "    .dataframe thead th {\n",
       "        text-align: right;\n",
       "    }\n",
       "</style>\n",
       "<table border=\"1\" class=\"dataframe\">\n",
       "  <thead>\n",
       "    <tr style=\"text-align: right;\">\n",
       "      <th></th>\n",
       "      <th>TRUE</th>\n",
       "      <th>PRED</th>\n",
       "      <th>ABS ERROR</th>\n",
       "    </tr>\n",
       "  </thead>\n",
       "  <tbody>\n",
       "    <tr>\n",
       "      <th>0</th>\n",
       "      <td>0.002040</td>\n",
       "      <td>0.012115</td>\n",
       "      <td>-0.010075</td>\n",
       "    </tr>\n",
       "    <tr>\n",
       "      <th>1</th>\n",
       "      <td>0.012257</td>\n",
       "      <td>0.019367</td>\n",
       "      <td>-0.007110</td>\n",
       "    </tr>\n",
       "    <tr>\n",
       "      <th>2</th>\n",
       "      <td>0.009754</td>\n",
       "      <td>0.020809</td>\n",
       "      <td>-0.011055</td>\n",
       "    </tr>\n",
       "    <tr>\n",
       "      <th>3</th>\n",
       "      <td>0.031223</td>\n",
       "      <td>0.031029</td>\n",
       "      <td>0.000195</td>\n",
       "    </tr>\n",
       "    <tr>\n",
       "      <th>4</th>\n",
       "      <td>0.005073</td>\n",
       "      <td>0.011688</td>\n",
       "      <td>-0.006615</td>\n",
       "    </tr>\n",
       "    <tr>\n",
       "      <th>...</th>\n",
       "      <td>...</td>\n",
       "      <td>...</td>\n",
       "      <td>...</td>\n",
       "    </tr>\n",
       "    <tr>\n",
       "      <th>1670</th>\n",
       "      <td>0.026842</td>\n",
       "      <td>0.023602</td>\n",
       "      <td>0.003240</td>\n",
       "    </tr>\n",
       "    <tr>\n",
       "      <th>1671</th>\n",
       "      <td>0.026300</td>\n",
       "      <td>0.005669</td>\n",
       "      <td>0.020632</td>\n",
       "    </tr>\n",
       "    <tr>\n",
       "      <th>1672</th>\n",
       "      <td>0.000777</td>\n",
       "      <td>0.000721</td>\n",
       "      <td>0.000056</td>\n",
       "    </tr>\n",
       "    <tr>\n",
       "      <th>1673</th>\n",
       "      <td>0.004313</td>\n",
       "      <td>0.011395</td>\n",
       "      <td>-0.007081</td>\n",
       "    </tr>\n",
       "    <tr>\n",
       "      <th>1674</th>\n",
       "      <td>0.007055</td>\n",
       "      <td>0.004917</td>\n",
       "      <td>0.002137</td>\n",
       "    </tr>\n",
       "  </tbody>\n",
       "</table>\n",
       "<p>1675 rows × 3 columns</p>\n",
       "</div>"
      ],
      "text/plain": [
       "          TRUE      PRED  ABS ERROR\n",
       "0     0.002040  0.012115  -0.010075\n",
       "1     0.012257  0.019367  -0.007110\n",
       "2     0.009754  0.020809  -0.011055\n",
       "3     0.031223  0.031029   0.000195\n",
       "4     0.005073  0.011688  -0.006615\n",
       "...        ...       ...        ...\n",
       "1670  0.026842  0.023602   0.003240\n",
       "1671  0.026300  0.005669   0.020632\n",
       "1672  0.000777  0.000721   0.000056\n",
       "1673  0.004313  0.011395  -0.007081\n",
       "1674  0.007055  0.004917   0.002137\n",
       "\n",
       "[1675 rows x 3 columns]"
      ]
     },
     "execution_count": 93,
     "metadata": {},
     "output_type": "execute_result"
    }
   ],
   "source": [
    "show_result(y_test=y_test, y_pred=y_pred)"
   ]
  },
  {
   "cell_type": "markdown",
   "metadata": {},
   "source": [
    "### Random Forest Regression"
   ]
  },
  {
   "cell_type": "markdown",
   "metadata": {},
   "source": [
    "где-нибудь здесь можно добавить catboost..."
   ]
  },
  {
   "cell_type": "code",
   "execution_count": 85,
   "metadata": {
    "ExecuteTime": {
     "end_time": "2023-04-29T17:46:45.166465Z",
     "start_time": "2023-04-29T17:46:38.924499Z"
    },
    "jupyter": {
     "outputs_hidden": false
    }
   },
   "outputs": [
    {
     "name": "stderr",
     "output_type": "stream",
     "text": [
      "[Parallel(n_jobs=10)]: Using backend ThreadingBackend with 10 concurrent workers.\n",
      "[Parallel(n_jobs=10)]: Done  30 tasks      | elapsed:    1.0s\n",
      "[Parallel(n_jobs=10)]: Done 180 tasks      | elapsed:    4.9s\n",
      "[Parallel(n_jobs=10)]: Done 200 out of 200 | elapsed:    5.4s finished\n",
      "[Parallel(n_jobs=10)]: Using backend ThreadingBackend with 10 concurrent workers.\n",
      "[Parallel(n_jobs=10)]: Done  30 tasks      | elapsed:    0.0s\n",
      "[Parallel(n_jobs=10)]: Done 180 tasks      | elapsed:    0.1s\n",
      "[Parallel(n_jobs=10)]: Done 200 out of 200 | elapsed:    0.1s finished\n"
     ]
    }
   ],
   "source": [
    "model = RandomForestRegressor(n_estimators=200, max_depth=20, min_samples_split=5, min_samples_leaf=2, max_features='sqrt', verbose=1, random_state=42, n_jobs=10)\n",
    "model.fit(X_train, y_train)\n",
    "\n",
    "# Get predicted data\n",
    "y_pred = model.predict(X_test)"
   ]
  },
  {
   "cell_type": "code",
   "execution_count": 87,
   "metadata": {
    "ExecuteTime": {
     "end_time": "2023-04-29T17:46:45.987315Z",
     "start_time": "2023-04-29T17:46:45.971683Z"
    },
    "jupyter": {
     "outputs_hidden": false
    }
   },
   "outputs": [
    {
     "data": {
      "text/plain": [
       "0.013924442720712915"
      ]
     },
     "execution_count": 87,
     "metadata": {},
     "output_type": "execute_result"
    }
   ],
   "source": [
    "calculate_rmse(y_test=y_test, y_pred=y_pred)"
   ]
  },
  {
   "cell_type": "code",
   "execution_count": 88,
   "metadata": {
    "ExecuteTime": {
     "end_time": "2023-04-29T17:46:45.987315Z",
     "start_time": "2023-04-29T17:46:45.971683Z"
    },
    "jupyter": {
     "outputs_hidden": false
    }
   },
   "outputs": [
    {
     "data": {
      "text/html": [
       "<div>\n",
       "<style scoped>\n",
       "    .dataframe tbody tr th:only-of-type {\n",
       "        vertical-align: middle;\n",
       "    }\n",
       "\n",
       "    .dataframe tbody tr th {\n",
       "        vertical-align: top;\n",
       "    }\n",
       "\n",
       "    .dataframe thead th {\n",
       "        text-align: right;\n",
       "    }\n",
       "</style>\n",
       "<table border=\"1\" class=\"dataframe\">\n",
       "  <thead>\n",
       "    <tr style=\"text-align: right;\">\n",
       "      <th></th>\n",
       "      <th>TRUE</th>\n",
       "      <th>PRED</th>\n",
       "      <th>ABS ERROR</th>\n",
       "    </tr>\n",
       "  </thead>\n",
       "  <tbody>\n",
       "    <tr>\n",
       "      <th>0</th>\n",
       "      <td>0.002040</td>\n",
       "      <td>0.020003</td>\n",
       "      <td>-0.017963</td>\n",
       "    </tr>\n",
       "    <tr>\n",
       "      <th>1</th>\n",
       "      <td>0.012257</td>\n",
       "      <td>0.022345</td>\n",
       "      <td>-0.010088</td>\n",
       "    </tr>\n",
       "    <tr>\n",
       "      <th>2</th>\n",
       "      <td>0.009754</td>\n",
       "      <td>0.027241</td>\n",
       "      <td>-0.017487</td>\n",
       "    </tr>\n",
       "    <tr>\n",
       "      <th>3</th>\n",
       "      <td>0.031223</td>\n",
       "      <td>0.038025</td>\n",
       "      <td>-0.006802</td>\n",
       "    </tr>\n",
       "    <tr>\n",
       "      <th>4</th>\n",
       "      <td>0.005073</td>\n",
       "      <td>0.004022</td>\n",
       "      <td>0.001052</td>\n",
       "    </tr>\n",
       "    <tr>\n",
       "      <th>...</th>\n",
       "      <td>...</td>\n",
       "      <td>...</td>\n",
       "      <td>...</td>\n",
       "    </tr>\n",
       "    <tr>\n",
       "      <th>1670</th>\n",
       "      <td>0.026842</td>\n",
       "      <td>0.015526</td>\n",
       "      <td>0.011316</td>\n",
       "    </tr>\n",
       "    <tr>\n",
       "      <th>1671</th>\n",
       "      <td>0.026300</td>\n",
       "      <td>0.009606</td>\n",
       "      <td>0.016694</td>\n",
       "    </tr>\n",
       "    <tr>\n",
       "      <th>1672</th>\n",
       "      <td>0.000777</td>\n",
       "      <td>0.005574</td>\n",
       "      <td>-0.004798</td>\n",
       "    </tr>\n",
       "    <tr>\n",
       "      <th>1673</th>\n",
       "      <td>0.004313</td>\n",
       "      <td>0.011972</td>\n",
       "      <td>-0.007659</td>\n",
       "    </tr>\n",
       "    <tr>\n",
       "      <th>1674</th>\n",
       "      <td>0.007055</td>\n",
       "      <td>0.004455</td>\n",
       "      <td>0.002599</td>\n",
       "    </tr>\n",
       "  </tbody>\n",
       "</table>\n",
       "<p>1675 rows × 3 columns</p>\n",
       "</div>"
      ],
      "text/plain": [
       "          TRUE      PRED  ABS ERROR\n",
       "0     0.002040  0.020003  -0.017963\n",
       "1     0.012257  0.022345  -0.010088\n",
       "2     0.009754  0.027241  -0.017487\n",
       "3     0.031223  0.038025  -0.006802\n",
       "4     0.005073  0.004022   0.001052\n",
       "...        ...       ...        ...\n",
       "1670  0.026842  0.015526   0.011316\n",
       "1671  0.026300  0.009606   0.016694\n",
       "1672  0.000777  0.005574  -0.004798\n",
       "1673  0.004313  0.011972  -0.007659\n",
       "1674  0.007055  0.004455   0.002599\n",
       "\n",
       "[1675 rows x 3 columns]"
      ]
     },
     "execution_count": 88,
     "metadata": {},
     "output_type": "execute_result"
    }
   ],
   "source": [
    "show_result(y_test=y_test, y_pred=y_pred)"
   ]
  },
  {
   "cell_type": "markdown",
   "metadata": {},
   "source": [
    "### CatBoost"
   ]
  },
  {
   "cell_type": "code",
   "execution_count": null,
   "metadata": {},
   "outputs": [],
   "source": [
    "model = CatBoostRegressor(iterations=20000,\n",
    "                          learning_rate=1,\n",
    "                          depth=2)\n",
    "# Fit model\n",
    "model.fit(X_train, y_train)\n",
    "\n",
    "y_pred = model.predict(X_test)"
   ]
  },
  {
   "cell_type": "code",
   "execution_count": null,
   "metadata": {},
   "outputs": [],
   "source": [
    "calculate_rmse(y_test=y_test, y_pred=y_pred)"
   ]
  },
  {
   "cell_type": "code",
   "execution_count": null,
   "metadata": {},
   "outputs": [],
   "source": [
    "show_result(y_test=y_test, y_pred=y_pred)"
   ]
  },
  {
   "cell_type": "markdown",
   "metadata": {},
   "source": [
    "CatBoost даёт нам самое лучше качество, будем использовать его."
   ]
  },
  {
   "cell_type": "markdown",
   "metadata": {},
   "source": [
    "### Классификационная модель SVC"
   ]
  },
  {
   "cell_type": "code",
   "execution_count": null,
   "metadata": {},
   "outputs": [],
   "source": [
    "# создаем и обучаем pipeline со стандартизацией и SVC классификатором\n",
    "pipe = Pipeline([\n",
    "    ('scaler', StandardScaler()), # стандартизация признаков\n",
    "    ('knn', SVC(C = 2, probability = True)) # SVC классификатор\n",
    "])\n",
    "pipe.fit(X_train, y_train)\n",
    "\n",
    "y_pred = pipe.predict(X_test)\n",
    "\n",
    "accuracy_score(y_test, y_pred)"
   ]
  },
  {
   "cell_type": "markdown",
   "metadata": {},
   "source": [
    "#### Обучение моделей для каждого показателя"
   ]
  },
  {
   "cell_type": "code",
   "execution_count": 29,
   "metadata": {
    "ExecuteTime": {
     "end_time": "2023-04-30T23:23:54.288864Z",
     "start_time": "2023-04-30T23:23:54.273208Z"
    }
   },
   "outputs": [],
   "source": [
    "descripted_datasets_path = \"descriptors\""
   ]
  },
  {
   "cell_type": "code",
   "execution_count": 36,
   "metadata": {
    "ExecuteTime": {
     "end_time": "2023-04-30T23:31:54.945404Z",
     "start_time": "2023-04-30T23:31:54.887065Z"
    }
   },
   "outputs": [],
   "source": [
    "def build_cat_model(file_name):\n",
    "    data = pd.read_csv(descripted_datasets_path + '/' + file_name, skiprows=0)\n",
    "\n",
    "\n",
    "    data = data.select_dtypes(include=[np.number])\n",
    "\n",
    "    local_y = data['LD50']\n",
    "    local_X = data.drop(['LD50'], axis=1)\n",
    "\n",
    "    # Delete index-column \"Unnamed\" if exists\n",
    "    local_X.drop(X.columns[0], axis=1, inplace=True)\n",
    "    local_X.dropna(axis=0)\n",
    "\n",
    "\n",
    "    description = local_X.describe()\n",
    "    for column in local_X.columns:\n",
    "        d = description[column]\n",
    "        qrtl2 = d['50%']\n",
    "        qrtl3 = d['75%']\n",
    "        max_v = d['max']\n",
    "        if qrtl2 == 0.0 and qrtl3 == 0.0:\n",
    "            X.drop(column, axis=1, inplace=True)\n",
    "        else:\n",
    "            X = local_X[local_X[column] < max_v * 0.99]\n",
    "        del d\n",
    "        del qrtl2\n",
    "        del qrtl3\n",
    "        del max_v\n",
    "\n",
    "    model = RandomForestRegressor(n_estimators=200, max_depth=20, min_samples_split=5, min_samples_leaf=2, max_features='sqrt', verbose=1, random_state=42, n_jobs=10)\n",
    "    model.fit(local_X, local_y)\n",
    "\n",
    "    return model"
   ]
  },
  {
   "cell_type": "code",
   "execution_count": 35,
   "metadata": {
    "ExecuteTime": {
     "end_time": "2023-04-30T23:31:30.903980Z",
     "start_time": "2023-04-30T23:31:30.880731Z"
    }
   },
   "outputs": [],
   "source": [
    "models = {}"
   ]
  },
  {
   "cell_type": "code",
   "execution_count": 34,
   "metadata": {
    "ExecuteTime": {
     "end_time": "2023-04-30T23:31:21.651055Z",
     "start_time": "2023-04-30T23:31:21.602189Z"
    }
   },
   "outputs": [
    {
     "name": "stdout",
     "output_type": "stream",
     "text": [
      "intraperitoneal-LDLo\n",
      "intravenous-LD50\n",
      "intravenous-LDLo\n",
      "oral-LD50\n",
      "oral-LDLo\n",
      "skin-LD50\n",
      "skin-LDLo\n",
      "subcutaneous-LD50\n",
      "subcutaneous-LDLo\n"
     ]
    }
   ],
   "source": [
    "for file_name in os.listdir(descripted_datasets_path):\n",
    "    model_name = '-'.join(file_name.split('_')[-2:])[:-4]\n",
    "    models[model_name] = build_cat_model(file_name)"
   ]
  },
  {
   "cell_type": "markdown",
   "metadata": {},
   "source": [
    "## Making the predictions"
   ]
  },
  {
   "cell_type": "code",
   "execution_count": null,
   "metadata": {},
   "outputs": [],
   "source": [
    "input_df = pd.read_csv('input.csv', skiprows=0)"
   ]
  },
  {
   "cell_type": "markdown",
   "metadata": {},
   "source": [
    "#### Make a descriptor"
   ]
  },
  {
   "cell_type": "code",
   "execution_count": null,
   "metadata": {},
   "outputs": [],
   "source": [
    "for file_name in os.listdir(lg_datasets_path):\n",
    "    if file_name[-4:] != '.csv':\n",
    "        continue\n",
    "    target_name = file_name.split('_')[-1][:-4]  # Getting the target type, clising the .csv\n",
    "    dataset_file_path = lg_datasets_path + '/' + file_name\n",
    "    df = upload_smiles(dataset_file_path, target_columns=[target_name])\n",
    "\n",
    "    # df = df.iloc[:1001, :]  # For fast checking\n",
    "\n",
    "    # Getting molecules from Canon SMILES\n",
    "    df['mol'] = df['smiles'].apply(lambda x: Chem.MolFromSmiles(x))\n",
    "\n",
    "    if df['mol'].isnull().sum():  # Checking if there are None values\n",
    "        df.dropna(inplace=True, axis=0)\n",
    "\n",
    "    df_pieces = np.array_split(df, df.shape[0] // 1000 + 1)\n",
    "    # Descripting\n",
    "\n",
    "    # Use generator to care about memory\n",
    "    df_desc = pd.concat([\n",
    "        Calculator(descriptors, ignore_3D=True).pandas(df_piece['mol'])\n",
    "        for df_piece in df_pieces\n",
    "    ]\n",
    "    )\n",
    "\n",
    "    # Save to file\n",
    "    df_desc.to_csv('desc_input.csv')\n",
    "    del df_desc\n",
    "    del df\n",
    "    gc.collect()\n",
    "\n",
    "%reset -f"
   ]
  },
  {
   "cell_type": "markdown",
   "metadata": {},
   "source": [
    "### Load X and Y"
   ]
  },
  {
   "cell_type": "code",
   "execution_count": null,
   "metadata": {},
   "outputs": [],
   "source": [
    "smiles = pd.read_csv('input.csv', skiprows=0)"
   ]
  },
  {
   "cell_type": "code",
   "execution_count": null,
   "metadata": {},
   "outputs": [],
   "source": [
    "X_test = pd.read_csv('desc_input.csv', skiprows=0)"
   ]
  },
  {
   "cell_type": "code",
   "execution_count": null,
   "metadata": {},
   "outputs": [],
   "source": [
    "# Prediction and output"
   ]
  },
  {
   "cell_type": "code",
   "execution_count": null,
   "metadata": {},
   "outputs": [],
   "source": [
    "for name, model in models.items():\n",
    "    y_pred = model.predict(X_test)\n",
    "    pd.DataFrame(\n",
    "        np.array(\n",
    "            [smiles, y_pred]\n",
    "        ).T,\n",
    "        columns=['smiles', name]\n",
    "    ).to_csv(f'{name}_output.csv')"
   ]
  }
 ],
 "metadata": {
  "kernelspec": {
   "display_name": "Python 3 (ipykernel)",
   "language": "python",
   "name": "python3"
  },
  "language_info": {
   "codemirror_mode": {
    "name": "ipython",
    "version": 3
   },
   "file_extension": ".py",
   "mimetype": "text/x-python",
   "name": "python",
   "nbconvert_exporter": "python",
   "pygments_lexer": "ipython3",
   "version": "3.9.7"
  }
 },
 "nbformat": 4,
 "nbformat_minor": 4
}
